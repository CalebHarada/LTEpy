{
 "cells": [
  {
   "cell_type": "markdown",
   "metadata": {},
   "source": [
    "# Boltzmann Factor Demo"
   ]
  },
  {
   "cell_type": "code",
   "execution_count": null,
   "metadata": {},
   "outputs": [],
   "source": [
    "import numpy as np\n",
    "import matplotlib.cm as cm\n",
    "\n",
    "import sys\n",
    "from LTEpy import lte, atom, plot\n",
    "from LTEpy.constants import EVOLT"
   ]
  },
  {
   "attachments": {},
   "cell_type": "markdown",
   "metadata": {},
   "source": [
    "### Make a hydrogen atom\n",
    "The energy levels and degeneracies are automatically calculated.\n",
    "Default energy levels are 1 to 10."
   ]
  },
  {
   "cell_type": "code",
   "execution_count": null,
   "metadata": {},
   "outputs": [],
   "source": [
    "hydrogen = atom.Hydrogen()\n",
    "print(f\"{hydrogen.levels=}\")\n",
    "print(f\"{hydrogen.energy/EVOLT=}eV\\n{hydrogen.gdegen=}\")"
   ]
  },
  {
   "attachments": {},
   "cell_type": "markdown",
   "metadata": {},
   "source": [
    "### Calculate Boltzmann Factor of all energy levels at a fixed temperature."
   ]
  },
  {
   "cell_type": "code",
   "execution_count": null,
   "metadata": {},
   "outputs": [],
   "source": [
    "hbf = lte.Boltzmann_Factor(temp=10**3, #Kelvin\n",
    "                           atom=hydrogen,)\n",
    "fig, hh = hbf.plot_bfact()\n",
    "fig.axes[0].legend(handles=[hh,])"
   ]
  },
  {
   "cell_type": "markdown",
   "metadata": {},
   "source": [
    "### Plot for many temperatures"
   ]
  },
  {
   "cell_type": "code",
   "execution_count": null,
   "metadata": {},
   "outputs": [],
   "source": [
    "# setup temperatures and 1st Boltzmann_Factor object\n",
    "temps = np.logspace(4,6,5)\n",
    "hbf = lte.Boltzmann_Factor(temp=temps[0], atom=hydrogen,)\n",
    "\n",
    "# set up figure\n",
    "handles = []\n",
    "labels = []\n",
    "fig, ax = plot.figax(\n",
    "    xlabel=plot.LABEL_LEVEL, ylabel=plot.LABEL_BFACT,\n",
    "    xscale='linear')\n",
    "colors = cm.rainbow_r(np.linspace(0,1,len(temps)))\n",
    "\n",
    "# plot all Boltzmann factors\n",
    "for ii, temp in enumerate(temps):\n",
    "\n",
    "    # update temperature\n",
    "    hbf.set_temp(temp=temp)\n",
    "    # plot boltzmann factor\n",
    "    hh = hbf.draw_bfact(ax, color=colors[ii])\n",
    "\n",
    "    # append handles and labels for legend\n",
    "    handles.append(hh)\n",
    "    labels.append(f\"{temp:.2e}\")\n",
    "\n",
    "# make legend\n",
    "ax.legend(handles=handles, labels=labels, title=plot.LABEL_TEMP)\n",
    "fig.tight_layout()"
   ]
  },
  {
   "cell_type": "markdown",
   "metadata": {},
   "source": [
    "# Calculate the partition function"
   ]
  },
  {
   "cell_type": "code",
   "execution_count": null,
   "metadata": {},
   "outputs": [],
   "source": []
  },
  {
   "cell_type": "code",
   "execution_count": null,
   "metadata": {},
   "outputs": [],
   "source": []
  },
  {
   "cell_type": "code",
   "execution_count": null,
   "metadata": {},
   "outputs": [],
   "source": []
  }
 ],
 "metadata": {
  "kernelspec": {
   "display_name": "codeastro",
   "language": "python",
   "name": "python3"
  },
  "language_info": {
   "codemirror_mode": {
    "name": "ipython",
    "version": 3
   },
   "file_extension": ".py",
   "mimetype": "text/x-python",
   "name": "python",
   "nbconvert_exporter": "python",
   "pygments_lexer": "ipython3",
   "version": "3.10.12"
  }
 },
 "nbformat": 4,
 "nbformat_minor": 2
}
