{
 "cells": [
  {
   "cell_type": "code",
   "execution_count": null,
   "metadata": {},
   "outputs": [],
   "source": [
    "%reload_ext autoreload\n",
    "%autoreload 2\n",
    "from importlib import reload\n",
    "\n",
    "import numpy as np\n",
    "\n",
    "import sys\n",
    "sys.path.append('/Users/emigardiner/Code/LTEpy')\n",
    "import LTEpy.equations as lte\n",
    "import LTEpy.atom as atom\n",
    "from LTEpy.constants import EVOLT\n"
   ]
  },
  {
   "cell_type": "markdown",
   "metadata": {},
   "source": [
    "# Make a hydrogen atom"
   ]
  },
  {
   "cell_type": "code",
   "execution_count": null,
   "metadata": {},
   "outputs": [],
   "source": [
    "hydrogen = atom.Hydrogen()\n",
    "print(f\"{hydrogen.name=}\\n{hydrogen.levels=}\")\n",
    "print(f\"{hydrogen.energy/EVOLT=}eV\\n{hydrogen.gdegen=}\")"
   ]
  },
  {
   "cell_type": "markdown",
   "metadata": {},
   "source": [
    "# Calculate Boltzmann Factor of all energy levels"
   ]
  },
  {
   "cell_type": "code",
   "execution_count": null,
   "metadata": {},
   "outputs": [],
   "source": [
    "hbf = lte.Boltzmann_Factor(temp=10**4, #Kelvin\n",
    "                           atom=hydrogen,)\n",
    "bfact = hbf.boltzmann_factor()\n",
    "fig, hh = hbf.plot_bfact()\n",
    "fig.axes[0].legend(handles=[hh,])"
   ]
  },
  {
   "cell_type": "code",
   "execution_count": null,
   "metadata": {},
   "outputs": [],
   "source": []
  }
 ],
 "metadata": {
  "kernelspec": {
   "display_name": "codeastro",
   "language": "python",
   "name": "python3"
  },
  "language_info": {
   "codemirror_mode": {
    "name": "ipython",
    "version": 3
   },
   "file_extension": ".py",
   "mimetype": "text/x-python",
   "name": "python",
   "nbconvert_exporter": "python",
   "pygments_lexer": "ipython3",
   "version": "3.10.12"
  }
 },
 "nbformat": 4,
 "nbformat_minor": 2
}
