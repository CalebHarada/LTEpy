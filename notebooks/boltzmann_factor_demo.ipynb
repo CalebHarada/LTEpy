{
 "cells": [
  {
   "cell_type": "markdown",
   "metadata": {},
   "source": [
    "# Boltzmann Factor Demo"
   ]
  },
  {
   "cell_type": "code",
   "execution_count": null,
   "metadata": {},
   "outputs": [],
   "source": [
    "import numpy as np\n",
    "import matplotlib.cm as cm\n",
    "\n",
    "from LTEpy import lte, atom, plot\n",
    "from LTEpy.constants import EVOLT"
   ]
  },
  {
   "attachments": {},
   "cell_type": "markdown",
   "metadata": {},
   "source": [
    "### Make a hydrogen atom"
   ]
  },
  {
   "cell_type": "code",
   "execution_count": null,
   "metadata": {},
   "outputs": [],
   "source": [
    "hydrogen = atom.Hydrogen()\n",
    "print(f\"{hydrogen.name=}\\n{hydrogen.levels=}\")\n",
    "print(f\"{hydrogen.energy/EVOLT=}eV\\n{hydrogen.gdegen=}\")"
   ]
  },
  {
   "attachments": {},
   "cell_type": "markdown",
   "metadata": {},
   "source": [
    "### Calculate Boltzmann Factor of all energy levels"
   ]
  },
  {
   "cell_type": "code",
   "execution_count": null,
   "metadata": {},
   "outputs": [],
   "source": [
    "hbf = lte.Boltzmann_Factor(temp=10**3, #Kelvin\n",
    "                           atom=hydrogen,)\n",
    "xx = hbf.bfact\n",
    "fig, hh = hbf.plot_bfact()\n",
    "fig.axes[0].legend(handles=[hh,])"
   ]
  },
  {
   "cell_type": "markdown",
   "metadata": {},
   "source": [
    "### Plot for many temperatures"
   ]
  },
  {
   "cell_type": "code",
   "execution_count": null,
   "metadata": {},
   "outputs": [],
   "source": [
    "handles = []\n",
    "labels = []\n",
    "fig, ax = plot.figax(\n",
    "    xlabel=plot.LABEL_LEVEL, ylabel=plot.LABEL_BFACT,\n",
    "    xscale='linear')\n",
    "\n",
    "temps = np.logspace(4,6,5)\n",
    "colors = cm.rainbow_r(np.linspace(0,1,len(temps)))\n",
    "for ii, temp in enumerate(temps):\n",
    "    hbf = lte.Boltzmann_Factor(temp=temp, atom=hydrogen,)\n",
    "    bfact = hbf.bfact\n",
    "    hh = hbf.draw_bfact(ax, color=colors[ii])\n",
    "    handles.append(hh)\n",
    "    labels.append(f\"{temp:.2e}\")\n",
    "    print(labels)\n",
    "\n",
    "ax.legend(handles=handles, labels=labels, title=plot.LABEL_TEMP)\n"
   ]
  },
  {
   "cell_type": "code",
   "execution_count": null,
   "metadata": {},
   "outputs": [],
   "source": []
  }
 ],
 "metadata": {
  "kernelspec": {
   "display_name": "codeastro",
   "language": "python",
   "name": "python3"
  },
  "language_info": {
   "codemirror_mode": {
    "name": "ipython",
    "version": 3
   },
   "file_extension": ".py",
   "mimetype": "text/x-python",
   "name": "python",
   "nbconvert_exporter": "python",
   "pygments_lexer": "ipython3",
   "version": "3.10.12"
  }
 },
 "nbformat": 4,
 "nbformat_minor": 2
}
