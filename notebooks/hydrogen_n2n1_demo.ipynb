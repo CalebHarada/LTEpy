{
 "cells": [
  {
   "cell_type": "code",
   "execution_count": null,
   "metadata": {},
   "outputs": [],
   "source": [
    "%reload_ext autoreload\n",
    "%autoreload 2\n",
    "from importlib import reload\n",
    "\n",
    "import numpy as np\n",
    "\n",
    "import sys\n",
    "sys.path.append('/Users/emigardiner/Code/LTEpy')\n",
    "import LTEpy.equations as lte\n",
    "import LTEpy.atom as atom\n",
    "from LTEpy.constants import EVOLT\n"
   ]
  },
  {
   "cell_type": "markdown",
   "metadata": {},
   "source": [
    "# Make a simple hydrogen atom"
   ]
  },
  {
   "cell_type": "code",
   "execution_count": null,
   "metadata": {},
   "outputs": [],
   "source": [
    "name = 'hydrogen'\n",
    "levels = np.array([1,2])\n",
    "energy = -13.6*EVOLT/levels**2\n",
    "gdegen = 2*levels**2\n",
    "\n",
    "hydrogen = atom.Atom(name, gdegen, energy, levels)\n",
    "print(type(hydrogen))"
   ]
  },
  {
   "cell_type": "markdown",
   "metadata": {},
   "source": [
    "# Calculate n_2/n_1"
   ]
  },
  {
   "cell_type": "code",
   "execution_count": null,
   "metadata": {},
   "outputs": [],
   "source": [
    "temp = 300                                          # Kelvin\n",
    "bogi = lte.Boltzmann_Gibbs(temp, hydrogen, 2, 1)    \n",
    "n2n1 = bogi.ninj()"
   ]
  },
  {
   "cell_type": "markdown",
   "metadata": {},
   "source": [
    "# Do the same for many temperatures"
   ]
  },
  {
   "cell_type": "code",
   "execution_count": null,
   "metadata": {},
   "outputs": [],
   "source": [
    "temp_arr = np.geomspace(10**2,10**4, 100)\n",
    "n2n1_arr = np.zeros_like(temp_arr)\n",
    "\n",
    "for ii, temp in enumerate(temp_arr):\n",
    "    n2n1_arr[ii] = lte.Boltzmann_Gibbs(temp, hydrogen, 2, 1).ninj()\n"
   ]
  },
  {
   "cell_type": "code",
   "execution_count": null,
   "metadata": {},
   "outputs": [],
   "source": [
    "import matplotlib.pyplot as plt"
   ]
  },
  {
   "cell_type": "code",
   "execution_count": null,
   "metadata": {},
   "outputs": [],
   "source": [
    "fig, ax = plt.subplots(1)\n",
    "ax.set_xlabel('Temperature (K)')\n",
    "ax.set_ylabel('Hydrogen $n_2/n_1$')\n",
    "ax.set_xscale('log')\n",
    "ax.set_yscale('log')\n",
    "\n",
    "ax.plot(temp_arr, n2n1_arr)"
   ]
  },
  {
   "cell_type": "code",
   "execution_count": null,
   "metadata": {},
   "outputs": [],
   "source": []
  }
 ],
 "metadata": {
  "kernelspec": {
   "display_name": "codeastro",
   "language": "python",
   "name": "python3"
  },
  "language_info": {
   "codemirror_mode": {
    "name": "ipython",
    "version": 3
   },
   "file_extension": ".py",
   "mimetype": "text/x-python",
   "name": "python",
   "nbconvert_exporter": "python",
   "pygments_lexer": "ipython3",
   "version": "3.10.12"
  }
 },
 "nbformat": 4,
 "nbformat_minor": 2
}
