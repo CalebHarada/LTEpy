{
 "cells": [
  {
   "attachments": {},
   "cell_type": "markdown",
   "metadata": {},
   "source": [
    "# Maxwell-Boltzmann Demo\n",
    "\n",
    "Demonstration of the Maxwell-Boltzmann module in LTEpy."
   ]
  },
  {
   "cell_type": "code",
   "execution_count": null,
   "metadata": {},
   "outputs": [],
   "source": [
    "import matplotlib.pyplot as plt\n",
    "from LTEpy import lte"
   ]
  },
  {
   "attachments": {},
   "cell_type": "markdown",
   "metadata": {},
   "source": [
    "### Define a new instance of an LTEpy Maxwell-Boltzmann object for a given temperature"
   ]
  },
  {
   "cell_type": "code",
   "execution_count": null,
   "metadata": {},
   "outputs": [],
   "source": [
    "temp = 1000  # temperature in K\n",
    "mass = 1     # mass in AMU\n",
    "maxwell_boltzmann = lte.Maxwell_Boltzmann(temp, mass)"
   ]
  },
  {
   "attachments": {},
   "cell_type": "markdown",
   "metadata": {},
   "source": [
    "### Plot $f(v)$ on a given speed interval for different temperatures"
   ]
  },
  {
   "cell_type": "code",
   "execution_count": null,
   "metadata": {},
   "outputs": [],
   "source": [
    "speed_start = 1e1  # starting speed in cm/s\n",
    "speed_end = 5e6   # ending speed in cm/s\n",
    "\n",
    "fig, ax = plt.subplots()\n",
    "\n",
    "maxwell_boltzmann.set_mass(1)\n",
    "maxwell_boltzmann.set_temp(5800)\n",
    "maxwell_boltzmann.plot_fv(speed_start, speed_end, ax=ax, c=\"k\", ls=\"-\", label=\"{:} K\".format(maxwell_boltzmann.temp))\n",
    "\n",
    "maxwell_boltzmann.set_temp(2500)\n",
    "maxwell_boltzmann.plot_fv(speed_start, speed_end, ax=ax, c=\"r\", ls=\"-\", label=\"{:} K\".format(maxwell_boltzmann.temp))\n",
    "\n",
    "maxwell_boltzmann.set_temp(10_000)\n",
    "maxwell_boltzmann.plot_fv(speed_start, speed_end, ax=ax, c=\"b\", ls=\"-\", label=\"{:} K\".format(maxwell_boltzmann.temp))\n",
    "\n",
    "ax.legend();"
   ]
  },
  {
   "attachments": {},
   "cell_type": "markdown",
   "metadata": {},
   "source": [
    "### Plot $f(v)$ on a given speed interval for different masses"
   ]
  },
  {
   "cell_type": "code",
   "execution_count": null,
   "metadata": {},
   "outputs": [],
   "source": [
    "speed_start = 10  # starting speed in cm/s\n",
    "speed_end = 3e6   # ending speed in cm/s\n",
    "\n",
    "fig, ax = plt.subplots()\n",
    "\n",
    "maxwell_boltzmann.set_temp(5800)\n",
    "maxwell_boltzmann.set_mass(1)\n",
    "maxwell_boltzmann.plot_fv(speed_start, speed_end, ax=ax, c=\"C0\", ls=\"-\", label=\"{:} AMU\".format(maxwell_boltzmann.mass))\n",
    "\n",
    "maxwell_boltzmann.set_mass(10)\n",
    "maxwell_boltzmann.plot_fv(speed_start, speed_end, ax=ax, c=\"C1\", ls=\"-\", label=\"{:} AMU\".format(maxwell_boltzmann.mass))\n",
    "\n",
    "maxwell_boltzmann.set_mass(50)\n",
    "maxwell_boltzmann.plot_fv(speed_start, speed_end, ax=ax, c=\"C2\", ls=\"-\", label=\"{:} AMU\".format(maxwell_boltzmann.mass))\n",
    "\n",
    "ax.legend();"
   ]
  },
  {
   "cell_type": "code",
   "execution_count": null,
   "metadata": {},
   "outputs": [],
   "source": []
  }
 ],
 "metadata": {
  "kernelspec": {
   "display_name": "codeastro",
   "language": "python",
   "name": "python3"
  },
  "language_info": {
   "codemirror_mode": {
    "name": "ipython",
    "version": 3
   },
   "file_extension": ".py",
   "mimetype": "text/x-python",
   "name": "python",
   "nbconvert_exporter": "python",
   "pygments_lexer": "ipython3",
   "version": "3.10.12"
  }
 },
 "nbformat": 4,
 "nbformat_minor": 2
}
