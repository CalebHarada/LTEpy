{
 "cells": [
  {
   "attachments": {},
   "cell_type": "markdown",
   "metadata": {},
   "source": [
    "# Planck Demo\n",
    "\n",
    "Demonstration of the Planck module in LTEpy."
   ]
  },
  {
   "cell_type": "code",
   "execution_count": null,
   "metadata": {},
   "outputs": [],
   "source": [
    "%reload_ext autoreload\n",
    "%autoreload 2\n",
    "from importlib import reload\n",
    "\n",
    "import numpy as np\n",
    "import matplotlib.pyplot as plt\n",
    "\n",
    "import sys\n",
    "sys.path.append('../')\n",
    "import LTEpy.lte as lte"
   ]
  },
  {
   "attachments": {},
   "cell_type": "markdown",
   "metadata": {},
   "source": [
    "### Define a new instance of an LTEpy Planck object for a given temperature"
   ]
  },
  {
   "cell_type": "code",
   "execution_count": null,
   "metadata": {},
   "outputs": [],
   "source": [
    "temp = 1000  # temperature in K\n",
    "planck = lte.Planck(temp)"
   ]
  },
  {
   "attachments": {},
   "cell_type": "markdown",
   "metadata": {},
   "source": [
    "### Plot $B_\\lambda(T)$ on a given wavelength interval"
   ]
  },
  {
   "cell_type": "code",
   "execution_count": null,
   "metadata": {},
   "outputs": [],
   "source": [
    "wl_start = 500  # starting wavelength in Angstroms\n",
    "wl_end = 300_000    # ending wavelength in Angstroms\n",
    "\n",
    "fig, ax = plt.subplots()\n",
    "\n",
    "planck.set_temp(5800)\n",
    "planck.plot_B_lambda(wl_start, wl_end, ax=ax, c=\"k\", ls=\"-\")\n",
    "\n",
    "planck.set_temp(2500)\n",
    "planck.plot_B_lambda(wl_start, wl_end, ax=ax, c=\"r\", ls=\"--\")\n",
    "\n",
    "planck.set_temp(10_000)\n",
    "planck.plot_B_lambda(wl_start, wl_end, ax=ax, c=\"b\", ls=\"-.\")\n",
    "\n",
    "ax.set_ylim(1e9, 1e16)\n"
   ]
  },
  {
   "attachments": {},
   "cell_type": "markdown",
   "metadata": {},
   "source": [
    "### Plot $B_\\nu(T)$ on a given frequency interval"
   ]
  },
  {
   "cell_type": "code",
   "execution_count": null,
   "metadata": {},
   "outputs": [],
   "source": [
    "nu_start = 1e12  # starting frequency in Hz\n",
    "nu_end = 1e16    # ending frequency in Hz\n",
    "\n",
    "fig, ax = plt.subplots()\n",
    "\n",
    "planck.set_temp(5800)\n",
    "planck.plot_B_nu(nu_start, nu_end, ax=ax, c=\"k\", ls=\"-\")\n",
    "\n",
    "planck.set_temp(2500)\n",
    "planck.plot_B_nu(nu_start, nu_end, ax=ax, c=\"r\", ls=\"--\")\n",
    "\n",
    "planck.set_temp(10_000)\n",
    "planck.plot_B_nu(nu_start, nu_end, ax=ax, c=\"b\", ls=\"-.\")\n",
    "\n",
    "ax.set_ylim(1e-8, 1e-3)"
   ]
  },
  {
   "cell_type": "code",
   "execution_count": null,
   "metadata": {},
   "outputs": [],
   "source": []
  }
 ],
 "metadata": {
  "kernelspec": {
   "display_name": "codeastro",
   "language": "python",
   "name": "python3"
  },
  "language_info": {
   "codemirror_mode": {
    "name": "ipython",
    "version": 3
   },
   "file_extension": ".py",
   "mimetype": "text/x-python",
   "name": "python",
   "nbconvert_exporter": "python",
   "pygments_lexer": "ipython3",
   "version": "3.10.12"
  }
 },
 "nbformat": 4,
 "nbformat_minor": 2
}
